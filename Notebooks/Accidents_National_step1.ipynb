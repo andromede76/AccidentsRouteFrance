{
  "nbformat": 4,
  "nbformat_minor": 0,
  "metadata": {
    "colab": {
      "provenance": []
    },
    "kernelspec": {
      "name": "python3",
      "display_name": "Python 3"
    },
    "language_info": {
      "name": "python"
    }
  },
  "cells": [
    {
      "cell_type": "code",
      "execution_count": null,
      "metadata": {
        "colab": {
          "base_uri": "https://localhost:8080/"
        },
        "id": "5E1whB47tPaz",
        "outputId": "92ffcc8f-ff66-49ae-cf1f-afc2fe92aa7e"
      },
      "outputs": [
        {
          "output_type": "stream",
          "name": "stdout",
          "text": [
            "Mounted at /content/drive\n"
          ]
        }
      ],
      "source": [
        "from google.colab import drive\n",
        "drive.mount('/content/drive',force_remount=True)"
      ]
    },
    {
      "cell_type": "code",
      "source": [
        "# liste du répertoire\n",
        "!ls \"/content/drive/MyDrive/Accidents/datas\"\n",
        "\n",
        "drive = True\n",
        "path = \"/content/drive/MyDrive/Accidents/\"\n",
        "pathData = \"/content/drive/MyDrive/Accidents/datas/\""
      ],
      "metadata": {
        "colab": {
          "base_uri": "https://localhost:8080/"
        },
        "id": "DaOZZu4EuB61",
        "outputId": "abeda543-c0b6-47b5-d125-572af88f38a0"
      },
      "execution_count": null,
      "outputs": [
        {
          "output_type": "stream",
          "name": "stdout",
          "text": [
            "2009.csv\n",
            "2010.csv\n",
            "2011.csv\n",
            "2012.csv\n",
            "2013.csv\n",
            "2014.csv\n",
            "2015.csv\n",
            "2016.csv\n",
            "2017.csv\n",
            "2018.csv\n",
            "2019.csv\n",
            "2020.csv\n",
            "2021.csv\n",
            "caracteristiques_2005.csv\n",
            "caracteristiques_2006.csv\n",
            "caracteristiques_2007.csv\n",
            "caracteristiques_2008.csv\n",
            "caracteristiques_2009.csv\n",
            "caracteristiques_2010.csv\n",
            "caracteristiques_2011.csv\n",
            "caracteristiques_2012.csv\n",
            "caracteristiques_2013.csv\n",
            "caracteristiques_2014.csv\n",
            "caracteristiques_2015.csv\n",
            "caracteristiques_2016.csv\n",
            "caracteristiques_2017.csv\n",
            "caracteristiques_2018.csv\n",
            "caracteristiques_2019.csv\n",
            "caracteristiques_2020.csv\n",
            "caracteristiques_2021.csv\n",
            "caracteristiques_2022.csv\n",
            "caracteristiques_2023.csv\n",
            "description-de-la-liste-des-vehicules-immatricules-impliques-dans-les-accidents-corporels.pdf\n",
            "description-des-bases-de-donnees-onisr-annees-2005-a-2018.pdf\n",
            "description-des-bases-de-donnees-onisr-annees-2005-a-2020.pdf\n",
            "lieux_2005.csv\n",
            "lieux_2005_to_2023.csv\n",
            "lieux_2006.csv\n",
            "lieux_2007.csv\n",
            "lieux_2008.csv\n",
            "lieux_2009.csv\n",
            "lieux_2010.csv\n",
            "lieux_2011.csv\n",
            "lieux_2012.csv\n",
            "lieux_2013.csv\n",
            "lieux_2014.csv\n",
            "lieux_2015.csv\n",
            "lieux_2016.csv\n",
            "lieux_2017.csv\n",
            "lieux_2018.csv\n",
            "lieux_2019.csv\n",
            "lieux_2020.csv\n",
            "lieux_2021.csv\n",
            "lieux_2022.csv\n",
            "lieux_2023.csv\n",
            "Regroupement\n",
            "usagers_2005.csv\n",
            "usagers_2006.csv\n",
            "usagers_2007.csv\n",
            "usagers_2008.csv\n",
            "usagers_2009.csv\n",
            "usagers_2010.csv\n",
            "usagers_2011.csv\n",
            "usagers_2012.csv\n",
            "usagers_2013.csv\n",
            "usagers_2014.csv\n",
            "usagers_2015.csv\n",
            "usagers_2016.csv\n",
            "usagers_2017.csv\n",
            "usagers_2018.csv\n",
            "usagers_2019.csv\n",
            "usagers_2020.csv\n",
            "usagers_2021.csv\n",
            "usagers_2022.csv\n",
            "usagers_2023.csv\n",
            "vehicules_2005.csv\n",
            "vehicules_2006.csv\n",
            "vehicules_2007.csv\n",
            "vehicules_2008.csv\n",
            "vehicules_2009.csv\n",
            "vehicules_2010.csv\n",
            "vehicules_2011.csv\n",
            "vehicules_2012.csv\n",
            "vehicules_2013.csv\n",
            "vehicules_2014.csv\n",
            "vehicules_2015.csv\n",
            "vehicules_2016.csv\n",
            "vehicules_2017.csv\n",
            "vehicules_2018.csv\n",
            "vehicules_2019.csv\n",
            "vehicules_2020.csv\n",
            "vehicules_2021.csv\n",
            "vehicules_2022.csv\n",
            "vehicules_2023.csv\n"
          ]
        }
      ]
    },
    {
      "cell_type": "code",
      "source": [
        "!python glossaire.py"
      ],
      "metadata": {
        "id": "S7vvUTY4zkch",
        "colab": {
          "base_uri": "https://localhost:8080/"
        },
        "outputId": "f0b787df-b9c4-41a2-9b2c-0956c20df5e6"
      },
      "execution_count": null,
      "outputs": [
        {
          "output_type": "stream",
          "name": "stdout",
          "text": [
            "python3: can't open file '/content/glossaire.py': [Errno 2] No such file or directory\n"
          ]
        }
      ]
    },
    {
      "cell_type": "code",
      "source": [
        "\n",
        "import pandas as pd\n",
        "import numpy as np\n",
        "import os\n",
        "import matplotlib.pyplot as plt\n",
        "import seaborn as sns\n",
        "\n",
        "#import du lexique des features\n",
        "#import glossaire as fg"
      ],
      "metadata": {
        "id": "Wez-Jlf1uz14"
      },
      "execution_count": null,
      "outputs": []
    },
    {
      "cell_type": "code",
      "source": [
        "fileExt = r\".csv\"\n",
        "\n",
        "list_base_files = [_ for _ in os.listdir(pathData) if _.endswith(fileExt)]\n",
        "caracteristiques_files = [_ for _ in list_base_files if _.startswith(\"caracteristiques\")]\n",
        "lieux_files = [_ for _ in list_base_files if _.startswith(\"lieux\")]\n",
        "usagers_files = [_ for _ in list_base_files if _.startswith(\"usagers\")]\n",
        "vehicules_files = [_ for _ in list_base_files if _.startswith(\"vehicules\")]\n"
      ],
      "metadata": {
        "id": "HfEKoI7z333W"
      },
      "execution_count": null,
      "outputs": []
    },
    {
      "cell_type": "code",
      "source": [
        "caracteristiques_files"
      ],
      "metadata": {
        "colab": {
          "base_uri": "https://localhost:8080/"
        },
        "id": "2o5lpWgC5DDX",
        "outputId": "107c12a6-24fc-4527-8a71-5db5d46fa46a"
      },
      "execution_count": null,
      "outputs": [
        {
          "output_type": "execute_result",
          "data": {
            "text/plain": [
              "['caracteristiques_2023 (1).csv',\n",
              " 'caracteristiques_2016.csv',\n",
              " 'caracteristiques_2015.csv',\n",
              " 'caracteristiques_2014.csv',\n",
              " 'caracteristiques_2013.csv',\n",
              " 'caracteristiques_2012.csv',\n",
              " 'caracteristiques_2011.csv',\n",
              " 'caracteristiques_2010.csv',\n",
              " 'caracteristiques_2009.csv',\n",
              " 'caracteristiques_2008.csv',\n",
              " 'caracteristiques_2007.csv',\n",
              " 'caracteristiques_2006.csv',\n",
              " 'caracteristiques_2005.csv',\n",
              " 'caracteristiques_2021.csv',\n",
              " 'caracteristiques_2023.csv',\n",
              " 'caracteristiques_2017.csv',\n",
              " 'caracteristiques_2018.csv',\n",
              " 'caracteristiques_2019.csv',\n",
              " 'caracteristiques_2020.csv',\n",
              " 'caracteristiques_2022.csv']"
            ]
          },
          "metadata": {},
          "execution_count": 8
        }
      ]
    },
    {
      "cell_type": "code",
      "source": [
        "df_caracteristiques_2023 =pd.read_csv(pathData + 'caracteristiques_2023.csv', sep=';')\n",
        "df_caracteristiques_2022 = pd.read_csv(pathData + 'caracteristiques_2022.csv', sep=';')\n",
        "df_caracteristiques_2021 =pd.read_csv(pathData + 'caracteristiques_2021.csv', sep=';')\n",
        "df_caracteristiques_2020 =pd.read_csv(pathData + 'caracteristiques_2020.csv', sep=';')\n",
        "df_caracteristiques_2019 =pd.read_csv(pathData + 'caracteristiques_2019.csv', sep=';')"
      ],
      "metadata": {
        "id": "USuW89aJ-xwu"
      },
      "execution_count": null,
      "outputs": []
    },
    {
      "cell_type": "code",
      "source": [
        "df_caracteristiques_2023.info()"
      ],
      "metadata": {
        "colab": {
          "base_uri": "https://localhost:8080/"
        },
        "id": "PhT24kgciRt6",
        "outputId": "245ff77b-f951-4742-dc2c-2595f7ab3931"
      },
      "execution_count": null,
      "outputs": [
        {
          "output_type": "stream",
          "name": "stdout",
          "text": [
            "<class 'pandas.core.frame.DataFrame'>\n",
            "RangeIndex: 1231695 entries, 0 to 1231694\n",
            "Data columns (total 16 columns):\n",
            " #   Column   Non-Null Count    Dtype  \n",
            "---  ------   --------------    -----  \n",
            " 0   Num_Acc  1231695 non-null  int64  \n",
            " 1   jour     1231695 non-null  int64  \n",
            " 2   mois     1231695 non-null  int64  \n",
            " 3   an       1231695 non-null  int64  \n",
            " 4   hrmn     1231695 non-null  object \n",
            " 5   lum      1231695 non-null  int64  \n",
            " 6   dep      1231695 non-null  object \n",
            " 7   com      1231693 non-null  object \n",
            " 8   agg      1231695 non-null  int64  \n",
            " 9   int      1231695 non-null  int64  \n",
            " 10  atm      1231622 non-null  float64\n",
            " 11  col      1231676 non-null  float64\n",
            " 12  adr      1085797 non-null  object \n",
            " 13  lat      744627 non-null   object \n",
            " 14  long     744623 non-null   object \n",
            " 15  gps      480052 non-null   object \n",
            "dtypes: float64(2), int64(7), object(7)\n",
            "memory usage: 150.4+ MB\n"
          ]
        }
      ]
    },
    {
      "cell_type": "code",
      "source": [
        "# Renommer la colonne Accident_Id  en Num_Acc\n",
        "df_caracteristiques_2022.rename(columns={'Accident_Id': 'Num_Acc'}, inplace=True)\n"
      ],
      "metadata": {
        "id": "EisEgg0-lArj"
      },
      "execution_count": null,
      "outputs": []
    },
    {
      "cell_type": "code",
      "source": [
        "df_caracteristiques_2022 = df_caracteristiques_2022[['Num_Acc','jour','mois',  'an',  'hrmn', 'lum','dep','com', 'agg', 'int', 'atm','col',  'adr',  'lat', 'long' ]]"
      ],
      "metadata": {
        "id": "ZQ33gpZ6l9N1"
      },
      "execution_count": null,
      "outputs": []
    },
    {
      "cell_type": "code",
      "source": [
        "df_caracteristiques_2023.Num_Acc.value_counts()"
      ],
      "metadata": {
        "colab": {
          "base_uri": "https://localhost:8080/",
          "height": 489
        },
        "id": "CVyzWI7M3KyB",
        "outputId": "c6d93825-871d-494a-aa56-9e29d84c89c8"
      },
      "execution_count": null,
      "outputs": [
        {
          "output_type": "execute_result",
          "data": {
            "text/plain": [
              "Num_Acc\n",
              "202300000001    1\n",
              "202300036540    1\n",
              "202300036542    1\n",
              "202300036543    1\n",
              "202300036544    1\n",
              "               ..\n",
              "202300018278    1\n",
              "202300018279    1\n",
              "202300018280    1\n",
              "202300018281    1\n",
              "202300054822    1\n",
              "Name: count, Length: 54822, dtype: int64"
            ],
            "text/html": [
              "<div>\n",
              "<style scoped>\n",
              "    .dataframe tbody tr th:only-of-type {\n",
              "        vertical-align: middle;\n",
              "    }\n",
              "\n",
              "    .dataframe tbody tr th {\n",
              "        vertical-align: top;\n",
              "    }\n",
              "\n",
              "    .dataframe thead th {\n",
              "        text-align: right;\n",
              "    }\n",
              "</style>\n",
              "<table border=\"1\" class=\"dataframe\">\n",
              "  <thead>\n",
              "    <tr style=\"text-align: right;\">\n",
              "      <th></th>\n",
              "      <th>count</th>\n",
              "    </tr>\n",
              "    <tr>\n",
              "      <th>Num_Acc</th>\n",
              "      <th></th>\n",
              "    </tr>\n",
              "  </thead>\n",
              "  <tbody>\n",
              "    <tr>\n",
              "      <th>202300000001</th>\n",
              "      <td>1</td>\n",
              "    </tr>\n",
              "    <tr>\n",
              "      <th>202300036540</th>\n",
              "      <td>1</td>\n",
              "    </tr>\n",
              "    <tr>\n",
              "      <th>202300036542</th>\n",
              "      <td>1</td>\n",
              "    </tr>\n",
              "    <tr>\n",
              "      <th>202300036543</th>\n",
              "      <td>1</td>\n",
              "    </tr>\n",
              "    <tr>\n",
              "      <th>202300036544</th>\n",
              "      <td>1</td>\n",
              "    </tr>\n",
              "    <tr>\n",
              "      <th>...</th>\n",
              "      <td>...</td>\n",
              "    </tr>\n",
              "    <tr>\n",
              "      <th>202300018278</th>\n",
              "      <td>1</td>\n",
              "    </tr>\n",
              "    <tr>\n",
              "      <th>202300018279</th>\n",
              "      <td>1</td>\n",
              "    </tr>\n",
              "    <tr>\n",
              "      <th>202300018280</th>\n",
              "      <td>1</td>\n",
              "    </tr>\n",
              "    <tr>\n",
              "      <th>202300018281</th>\n",
              "      <td>1</td>\n",
              "    </tr>\n",
              "    <tr>\n",
              "      <th>202300054822</th>\n",
              "      <td>1</td>\n",
              "    </tr>\n",
              "  </tbody>\n",
              "</table>\n",
              "<p>54822 rows × 1 columns</p>\n",
              "</div><br><label><b>dtype:</b> int64</label>"
            ]
          },
          "metadata": {},
          "execution_count": 17
        }
      ]
    },
    {
      "cell_type": "code",
      "source": [
        "df_caracteristiques_2023 = pd.concat([df_caracteristiques_2023,df_caracteristiques_2022], axis=0, ignore_index=True)"
      ],
      "metadata": {
        "id": "rHhgjkOolkI0"
      },
      "execution_count": null,
      "outputs": []
    },
    {
      "cell_type": "code",
      "source": [
        "df_caracteristiques_2022.info()"
      ],
      "metadata": {
        "colab": {
          "base_uri": "https://localhost:8080/"
        },
        "id": "cPSLl-R5k4Uf",
        "outputId": "1c3a2288-fc33-4a68-afb8-9e3e2c22e99e"
      },
      "execution_count": null,
      "outputs": [
        {
          "output_type": "stream",
          "name": "stdout",
          "text": [
            "<class 'pandas.core.frame.DataFrame'>\n",
            "RangeIndex: 55302 entries, 0 to 55301\n",
            "Data columns (total 15 columns):\n",
            " #   Column   Non-Null Count  Dtype \n",
            "---  ------   --------------  ----- \n",
            " 0   Num_Acc  55302 non-null  int64 \n",
            " 1   jour     55302 non-null  int64 \n",
            " 2   mois     55302 non-null  int64 \n",
            " 3   an       55302 non-null  int64 \n",
            " 4   hrmn     55302 non-null  object\n",
            " 5   lum      55302 non-null  int64 \n",
            " 6   dep      55302 non-null  object\n",
            " 7   com      55302 non-null  object\n",
            " 8   agg      55302 non-null  int64 \n",
            " 9   int      55302 non-null  int64 \n",
            " 10  atm      55302 non-null  int64 \n",
            " 11  col      55302 non-null  int64 \n",
            " 12  adr      54069 non-null  object\n",
            " 13  lat      55302 non-null  object\n",
            " 14  long     55302 non-null  object\n",
            "dtypes: int64(9), object(6)\n",
            "memory usage: 6.3+ MB\n"
          ]
        }
      ]
    },
    {
      "cell_type": "code",
      "source": [
        "\n",
        "df_caracteristiques_2021.info()"
      ],
      "metadata": {
        "colab": {
          "base_uri": "https://localhost:8080/"
        },
        "id": "3p4NOJiSkVdB",
        "outputId": "aae523ab-17e8-413f-e1f5-aca18f31097c"
      },
      "execution_count": null,
      "outputs": [
        {
          "output_type": "stream",
          "name": "stdout",
          "text": [
            "<class 'pandas.core.frame.DataFrame'>\n",
            "RangeIndex: 56518 entries, 0 to 56517\n",
            "Data columns (total 15 columns):\n",
            " #   Column   Non-Null Count  Dtype \n",
            "---  ------   --------------  ----- \n",
            " 0   Num_Acc  56518 non-null  int64 \n",
            " 1   jour     56518 non-null  int64 \n",
            " 2   mois     56518 non-null  int64 \n",
            " 3   an       56518 non-null  int64 \n",
            " 4   hrmn     56518 non-null  object\n",
            " 5   lum      56518 non-null  int64 \n",
            " 6   dep      56518 non-null  object\n",
            " 7   com      56518 non-null  object\n",
            " 8   agg      56518 non-null  int64 \n",
            " 9   int      56518 non-null  int64 \n",
            " 10  atm      56518 non-null  int64 \n",
            " 11  col      56518 non-null  int64 \n",
            " 12  adr      55945 non-null  object\n",
            " 13  lat      56518 non-null  object\n",
            " 14  long     56518 non-null  object\n",
            "dtypes: int64(9), object(6)\n",
            "memory usage: 6.5+ MB\n"
          ]
        }
      ]
    },
    {
      "cell_type": "code",
      "source": [
        "df_caracteristiques_2021 = df_caracteristiques_2021[['Num_Acc','jour','mois',  'an',  'hrmn', 'lum','dep','com', 'agg', 'int', 'atm','col',  'adr',  'lat', 'long' ]]"
      ],
      "metadata": {
        "id": "DGk3qPNpkVkI"
      },
      "execution_count": null,
      "outputs": []
    },
    {
      "cell_type": "code",
      "source": [
        "df_caracteristiques_2023 = pd.concat([df_caracteristiques_2023,df_caracteristiques_2021], axis=0, ignore_index=True)"
      ],
      "metadata": {
        "id": "Zmgd6JQFmluE"
      },
      "execution_count": null,
      "outputs": []
    },
    {
      "cell_type": "code",
      "source": [
        "df_caracteristiques_2020.info()"
      ],
      "metadata": {
        "colab": {
          "base_uri": "https://localhost:8080/"
        },
        "id": "5KNrrjUYmt6y",
        "outputId": "d8c814cb-166b-4317-ee0f-48e28496482a"
      },
      "execution_count": null,
      "outputs": [
        {
          "output_type": "stream",
          "name": "stdout",
          "text": [
            "<class 'pandas.core.frame.DataFrame'>\n",
            "RangeIndex: 47744 entries, 0 to 47743\n",
            "Data columns (total 15 columns):\n",
            " #   Column   Non-Null Count  Dtype \n",
            "---  ------   --------------  ----- \n",
            " 0   Num_Acc  47744 non-null  int64 \n",
            " 1   jour     47744 non-null  int64 \n",
            " 2   mois     47744 non-null  int64 \n",
            " 3   an       47744 non-null  int64 \n",
            " 4   hrmn     47744 non-null  object\n",
            " 5   lum      47744 non-null  int64 \n",
            " 6   dep      47744 non-null  object\n",
            " 7   com      47744 non-null  object\n",
            " 8   agg      47744 non-null  int64 \n",
            " 9   int      47744 non-null  int64 \n",
            " 10  atm      47744 non-null  int64 \n",
            " 11  col      47744 non-null  int64 \n",
            " 12  adr      47387 non-null  object\n",
            " 13  lat      47744 non-null  object\n",
            " 14  long     47744 non-null  object\n",
            "dtypes: int64(9), object(6)\n",
            "memory usage: 5.5+ MB\n"
          ]
        }
      ]
    },
    {
      "cell_type": "code",
      "source": [
        "df_caracteristiques_2020 = df_caracteristiques_2020[['Num_Acc','jour','mois',  'an',  'hrmn', 'lum','dep','com', 'agg', 'int', 'atm','col',  'adr',  'lat', 'long' ]]"
      ],
      "metadata": {
        "id": "OMbSQzQim2dH"
      },
      "execution_count": null,
      "outputs": []
    },
    {
      "cell_type": "code",
      "source": [
        "df_caracteristiques_2023 = pd.concat([df_caracteristiques_2023,df_caracteristiques_2020], axis=0, ignore_index=True)"
      ],
      "metadata": {
        "id": "E56K9hflm6kB"
      },
      "execution_count": null,
      "outputs": []
    },
    {
      "cell_type": "code",
      "source": [
        "df_caracteristiques_2019.info()"
      ],
      "metadata": {
        "colab": {
          "base_uri": "https://localhost:8080/"
        },
        "id": "ZPeuXUC2nAaL",
        "outputId": "d0f64a0a-b1bf-4215-b8b4-dd0636c517d8"
      },
      "execution_count": null,
      "outputs": [
        {
          "output_type": "stream",
          "name": "stdout",
          "text": [
            "<class 'pandas.core.frame.DataFrame'>\n",
            "RangeIndex: 58840 entries, 0 to 58839\n",
            "Data columns (total 15 columns):\n",
            " #   Column   Non-Null Count  Dtype \n",
            "---  ------   --------------  ----- \n",
            " 0   Num_Acc  58840 non-null  int64 \n",
            " 1   jour     58840 non-null  int64 \n",
            " 2   mois     58840 non-null  int64 \n",
            " 3   an       58840 non-null  int64 \n",
            " 4   hrmn     58840 non-null  object\n",
            " 5   lum      58840 non-null  int64 \n",
            " 6   dep      58840 non-null  object\n",
            " 7   com      58840 non-null  object\n",
            " 8   agg      58840 non-null  int64 \n",
            " 9   int      58840 non-null  int64 \n",
            " 10  atm      58840 non-null  int64 \n",
            " 11  col      58840 non-null  int64 \n",
            " 12  adr      58413 non-null  object\n",
            " 13  lat      58840 non-null  object\n",
            " 14  long     58840 non-null  object\n",
            "dtypes: int64(9), object(6)\n",
            "memory usage: 6.7+ MB\n"
          ]
        }
      ]
    },
    {
      "cell_type": "code",
      "source": [
        "df_caracteristiques_2019 = df_caracteristiques_2019[['Num_Acc','jour','mois',  'an',  'hrmn', 'lum','dep','com', 'agg', 'int', 'atm','col',  'adr',  'lat', 'long' ]]"
      ],
      "metadata": {
        "id": "QFSoq7UJnIEn"
      },
      "execution_count": null,
      "outputs": []
    },
    {
      "cell_type": "code",
      "source": [
        "df_caracteristiques_2023 = pd.concat([df_caracteristiques_2023,df_caracteristiques_2019], axis=0, ignore_index=True)"
      ],
      "metadata": {
        "id": "1t2w8gD6nIIF"
      },
      "execution_count": null,
      "outputs": []
    },
    {
      "cell_type": "code",
      "source": [
        "df_caracteristiques_2023.shape"
      ],
      "metadata": {
        "colab": {
          "base_uri": "https://localhost:8080/"
        },
        "id": "-_a2RKeFWMbb",
        "outputId": "8a30c054-a7a7-4a15-ef31-8a12ea5cbbc8"
      },
      "execution_count": null,
      "outputs": [
        {
          "output_type": "execute_result",
          "data": {
            "text/plain": [
              "(273226, 15)"
            ]
          },
          "metadata": {},
          "execution_count": 25
        }
      ]
    },
    {
      "cell_type": "code",
      "source": [
        "df_caracteristiques_2018 =pd.read_csv(pathData + 'caracteristiques_2018.csv', encoding = \"ISO-8859-1\", quotechar='\"')\n",
        "df_caracteristiques_2017 =pd.read_csv(pathData + 'caracteristiques_2017.csv', encoding = \"ISO-8859-1\", quotechar='\"')\n",
        "df_caracteristiques_2016 =pd.read_csv(pathData + 'caracteristiques_2016.csv', encoding = \"ISO-8859-1\", quotechar='\"')\n",
        "df_caracteristiques_2015 =pd.read_csv(pathData + 'caracteristiques_2015.csv', encoding = \"ISO-8859-1\", quotechar='\"')\n",
        "df_caracteristiques_2014 =pd.read_csv(pathData + 'caracteristiques_2014.csv', encoding = \"ISO-8859-1\", quotechar='\"')\n",
        "df_caracteristiques_2013 =pd.read_csv(pathData + 'caracteristiques_2013.csv', encoding = \"ISO-8859-1\", quotechar='\"')\n",
        "df_caracteristiques_2012 =pd.read_csv(pathData + 'caracteristiques_2012.csv', encoding = \"ISO-8859-1\", quotechar='\"')\n",
        "df_caracteristiques_2011 =pd.read_csv(pathData + 'caracteristiques_2011.csv', encoding = \"ISO-8859-1\", quotechar='\"')\n",
        "df_caracteristiques_2010 =pd.read_csv(pathData + 'caracteristiques_2010.csv', encoding = \"ISO-8859-1\", quotechar='\"')\n",
        "df_caracteristiques_2009 =pd.read_csv(pathData + 'caracteristiques_2009.csv', sep=\"\\t\",encoding = \"ISO-8859-1\", quotechar='\"')\n",
        "df_caracteristiques_2008 =pd.read_csv(pathData + 'caracteristiques_2008.csv', encoding = \"ISO-8859-1\", quotechar='\"')\n",
        "df_caracteristiques_2007 =pd.read_csv(pathData + 'caracteristiques_2007.csv', encoding = \"ISO-8859-1\", quotechar='\"')\n",
        "df_caracteristiques_2006 =pd.read_csv(pathData + 'caracteristiques_2006.csv', encoding = \"ISO-8859-1\", quotechar='\"')\n",
        "df_caracteristiques_2005 =pd.read_csv(pathData + 'caracteristiques_2005.csv', encoding = \"ISO-8859-1\", quotechar='\"')"
      ],
      "metadata": {
        "id": "wxXlpT6hnILr"
      },
      "execution_count": null,
      "outputs": []
    },
    {
      "cell_type": "markdown",
      "source": [],
      "metadata": {
        "id": "ugUIwDIMoujm"
      }
    },
    {
      "cell_type": "code",
      "source": [
        "df_caracteristiques_2018[\"an\"] = 2000+df_caracteristiques_2018[\"an\"]\n",
        "df_caracteristiques_2017[\"an\"] = 2000+df_caracteristiques_2017[\"an\"]\n",
        "df_caracteristiques_2016[\"an\"] = 2000+df_caracteristiques_2016[\"an\"]\n",
        "df_caracteristiques_2015[\"an\"] = 2000+df_caracteristiques_2015[\"an\"]\n",
        "df_caracteristiques_2014[\"an\"] = 2000+df_caracteristiques_2014[\"an\"]\n",
        "df_caracteristiques_2013[\"an\"] = 2000+df_caracteristiques_2013[\"an\"]\n",
        "df_caracteristiques_2012[\"an\"] = 2000+df_caracteristiques_2012[\"an\"]\n",
        "df_caracteristiques_2011[\"an\"] = 2000+df_caracteristiques_2011[\"an\"]\n",
        "df_caracteristiques_2010[\"an\"] = 2000+df_caracteristiques_2010[\"an\"]\n",
        "\n",
        "df_caracteristiques_2009[\"an\"] = 2000+df_caracteristiques_2009[\"an\"]\n",
        "df_caracteristiques_2008[\"an\"] = 2000+df_caracteristiques_2008[\"an\"]\n",
        "df_caracteristiques_2007[\"an\"] = 2000+df_caracteristiques_2007[\"an\"]\n",
        "df_caracteristiques_2006[\"an\"] = 2000+df_caracteristiques_2006[\"an\"]\n",
        "df_caracteristiques_2005[\"an\"] = 2000+df_caracteristiques_2005[\"an\"]"
      ],
      "metadata": {
        "id": "nHl242n3om3E"
      },
      "execution_count": null,
      "outputs": []
    },
    {
      "cell_type": "code",
      "source": [
        "df_caracteristiques_2023 = pd.concat([df_caracteristiques_2023,df_caracteristiques_2018], axis=0, ignore_index=True)\n",
        "df_caracteristiques_2023 = pd.concat([df_caracteristiques_2023,df_caracteristiques_2017], axis=0, ignore_index=True)\n",
        "df_caracteristiques_2023 = pd.concat([df_caracteristiques_2023,df_caracteristiques_2016], axis=0, ignore_index=True)\n",
        "df_caracteristiques_2023 = pd.concat([df_caracteristiques_2023,df_caracteristiques_2015], axis=0, ignore_index=True)\n",
        "df_caracteristiques_2023 = pd.concat([df_caracteristiques_2023,df_caracteristiques_2014], axis=0, ignore_index=True)\n",
        "df_caracteristiques_2023 = pd.concat([df_caracteristiques_2023,df_caracteristiques_2013], axis=0, ignore_index=True)\n",
        "df_caracteristiques_2023 = pd.concat([df_caracteristiques_2023,df_caracteristiques_2012], axis=0, ignore_index=True)\n",
        "df_caracteristiques_2023 = pd.concat([df_caracteristiques_2023,df_caracteristiques_2011], axis=0, ignore_index=True)\n",
        "df_caracteristiques_2023 = pd.concat([df_caracteristiques_2023,df_caracteristiques_2010], axis=0, ignore_index=True)\n",
        "df_caracteristiques_2023 = pd.concat([df_caracteristiques_2023,df_caracteristiques_2009], axis=0, ignore_index=True)\n",
        "df_caracteristiques_2023 = pd.concat([df_caracteristiques_2023,df_caracteristiques_2008], axis=0, ignore_index=True)\n",
        "df_caracteristiques_2023 = pd.concat([df_caracteristiques_2023,df_caracteristiques_2007], axis=0, ignore_index=True)\n",
        "df_caracteristiques_2023 = pd.concat([df_caracteristiques_2023,df_caracteristiques_2006], axis=0, ignore_index=True)\n",
        "df_caracteristiques_2023 = pd.concat([df_caracteristiques_2023,df_caracteristiques_2005], axis=0, ignore_index=True)"
      ],
      "metadata": {
        "id": "IcF_ILlLnIO7"
      },
      "execution_count": null,
      "outputs": []
    },
    {
      "cell_type": "code",
      "source": [
        "df_caracteristiques_2005_to_2023 = df_caracteristiques_2023"
      ],
      "metadata": {
        "id": "Xo9U7jmrnIR7"
      },
      "execution_count": null,
      "outputs": []
    },
    {
      "cell_type": "code",
      "source": [
        "df_caracteristiques_2005_to_2023.Num_Acc.value_counts()"
      ],
      "metadata": {
        "colab": {
          "base_uri": "https://localhost:8080/",
          "height": 489
        },
        "id": "k3vOQL7KE6aG",
        "outputId": "bcc44635-7fb8-482b-e379-e9bea7794df9"
      },
      "execution_count": null,
      "outputs": [
        {
          "output_type": "execute_result",
          "data": {
            "text/plain": [
              "Num_Acc\n",
              "202300000001    1\n",
              "201000063866    1\n",
              "201000063864    1\n",
              "201000063863    1\n",
              "201000063862    1\n",
              "               ..\n",
              "201600018855    1\n",
              "201600018854    1\n",
              "201600018853    1\n",
              "201600018852    1\n",
              "200500087954    1\n",
              "Name: count, Length: 1231695, dtype: int64"
            ],
            "text/html": [
              "<div>\n",
              "<style scoped>\n",
              "    .dataframe tbody tr th:only-of-type {\n",
              "        vertical-align: middle;\n",
              "    }\n",
              "\n",
              "    .dataframe tbody tr th {\n",
              "        vertical-align: top;\n",
              "    }\n",
              "\n",
              "    .dataframe thead th {\n",
              "        text-align: right;\n",
              "    }\n",
              "</style>\n",
              "<table border=\"1\" class=\"dataframe\">\n",
              "  <thead>\n",
              "    <tr style=\"text-align: right;\">\n",
              "      <th></th>\n",
              "      <th>count</th>\n",
              "    </tr>\n",
              "    <tr>\n",
              "      <th>Num_Acc</th>\n",
              "      <th></th>\n",
              "    </tr>\n",
              "  </thead>\n",
              "  <tbody>\n",
              "    <tr>\n",
              "      <th>202300000001</th>\n",
              "      <td>1</td>\n",
              "    </tr>\n",
              "    <tr>\n",
              "      <th>201000063866</th>\n",
              "      <td>1</td>\n",
              "    </tr>\n",
              "    <tr>\n",
              "      <th>201000063864</th>\n",
              "      <td>1</td>\n",
              "    </tr>\n",
              "    <tr>\n",
              "      <th>201000063863</th>\n",
              "      <td>1</td>\n",
              "    </tr>\n",
              "    <tr>\n",
              "      <th>201000063862</th>\n",
              "      <td>1</td>\n",
              "    </tr>\n",
              "    <tr>\n",
              "      <th>...</th>\n",
              "      <td>...</td>\n",
              "    </tr>\n",
              "    <tr>\n",
              "      <th>201600018855</th>\n",
              "      <td>1</td>\n",
              "    </tr>\n",
              "    <tr>\n",
              "      <th>201600018854</th>\n",
              "      <td>1</td>\n",
              "    </tr>\n",
              "    <tr>\n",
              "      <th>201600018853</th>\n",
              "      <td>1</td>\n",
              "    </tr>\n",
              "    <tr>\n",
              "      <th>201600018852</th>\n",
              "      <td>1</td>\n",
              "    </tr>\n",
              "    <tr>\n",
              "      <th>200500087954</th>\n",
              "      <td>1</td>\n",
              "    </tr>\n",
              "  </tbody>\n",
              "</table>\n",
              "<p>1231695 rows × 1 columns</p>\n",
              "</div><br><label><b>dtype:</b> int64</label>"
            ]
          },
          "metadata": {},
          "execution_count": 31
        }
      ]
    },
    {
      "cell_type": "code",
      "source": [
        "df_caracteristiques_2005_to_2023[\"an\"].unique()"
      ],
      "metadata": {
        "colab": {
          "base_uri": "https://localhost:8080/"
        },
        "id": "g2zqgptvoYaW",
        "outputId": "5808b64f-2dd8-4ce0-8613-f4bc378226e1"
      },
      "execution_count": null,
      "outputs": [
        {
          "output_type": "execute_result",
          "data": {
            "text/plain": [
              "array([2023, 2022, 2021, 2020, 2019, 2018, 2017, 2016, 2015, 2014, 2013,\n",
              "       2012, 2011, 2010, 2009, 2008, 2007, 2006, 2005])"
            ]
          },
          "metadata": {},
          "execution_count": 24
        }
      ]
    },
    {
      "cell_type": "code",
      "source": [
        "df_caracteristiques_2005_to_2023.info()"
      ],
      "metadata": {
        "colab": {
          "base_uri": "https://localhost:8080/"
        },
        "id": "nU3Cr4bjnIVG",
        "outputId": "68ba99e0-7941-41b7-d413-32c000f898cf"
      },
      "execution_count": null,
      "outputs": [
        {
          "output_type": "stream",
          "name": "stdout",
          "text": [
            "<class 'pandas.core.frame.DataFrame'>\n",
            "RangeIndex: 1231695 entries, 0 to 1231694\n",
            "Data columns (total 16 columns):\n",
            " #   Column   Non-Null Count    Dtype  \n",
            "---  ------   --------------    -----  \n",
            " 0   Num_Acc  1231695 non-null  int64  \n",
            " 1   jour     1231695 non-null  int64  \n",
            " 2   mois     1231695 non-null  int64  \n",
            " 3   an       1231695 non-null  int64  \n",
            " 4   hrmn     1231695 non-null  object \n",
            " 5   lum      1231695 non-null  int64  \n",
            " 6   dep      1231695 non-null  object \n",
            " 7   com      1231693 non-null  object \n",
            " 8   agg      1231695 non-null  int64  \n",
            " 9   int      1231695 non-null  int64  \n",
            " 10  atm      1231622 non-null  float64\n",
            " 11  col      1231676 non-null  float64\n",
            " 12  adr      1085797 non-null  object \n",
            " 13  lat      744627 non-null   object \n",
            " 14  long     744623 non-null   object \n",
            " 15  gps      480052 non-null   object \n",
            "dtypes: float64(2), int64(7), object(7)\n",
            "memory usage: 150.4+ MB\n"
          ]
        }
      ]
    },
    {
      "cell_type": "markdown",
      "source": [],
      "metadata": {
        "id": "nnlYyRJNiKvf"
      }
    },
    {
      "cell_type": "code",
      "source": [
        "df_caracteristiques_2005_to_2023.to_csv('caracteristiques_2005_to_2023.csv', index=False)\n"
      ],
      "metadata": {
        "id": "3oWIoLi-DcxG"
      },
      "execution_count": null,
      "outputs": []
    },
    {
      "cell_type": "code",
      "source": [
        "df_caracteristiques_2005_to_2023.info()"
      ],
      "metadata": {
        "colab": {
          "base_uri": "https://localhost:8080/"
        },
        "id": "G9pyV15F1Brz",
        "outputId": "2843ec57-a062-45a7-a179-c91fff8d886a"
      },
      "execution_count": null,
      "outputs": [
        {
          "output_type": "stream",
          "name": "stdout",
          "text": [
            "<class 'pandas.core.frame.DataFrame'>\n",
            "RangeIndex: 1231695 entries, 0 to 1231694\n",
            "Data columns (total 16 columns):\n",
            " #   Column   Non-Null Count    Dtype  \n",
            "---  ------   --------------    -----  \n",
            " 0   Num_Acc  1231695 non-null  int64  \n",
            " 1   jour     1231695 non-null  int64  \n",
            " 2   mois     1231695 non-null  int64  \n",
            " 3   an       1231695 non-null  int64  \n",
            " 4   hrmn     1231695 non-null  object \n",
            " 5   lum      1231695 non-null  int64  \n",
            " 6   dep      1231695 non-null  object \n",
            " 7   com      1231693 non-null  object \n",
            " 8   agg      1231695 non-null  int64  \n",
            " 9   int      1231695 non-null  int64  \n",
            " 10  atm      1231622 non-null  float64\n",
            " 11  col      1231676 non-null  float64\n",
            " 12  adr      1085797 non-null  object \n",
            " 13  lat      744627 non-null   object \n",
            " 14  long     744623 non-null   object \n",
            " 15  gps      480052 non-null   object \n",
            "dtypes: float64(2), int64(7), object(7)\n",
            "memory usage: 150.4+ MB\n"
          ]
        }
      ]
    },
    {
      "cell_type": "code",
      "source": [],
      "metadata": {
        "id": "0Zr86NG81NsD"
      },
      "execution_count": null,
      "outputs": []
    },
    {
      "cell_type": "code",
      "source": [
        "\n",
        "df_caracteristiques =pd.read_csv('caracteristiques_2005_to_2023.csv', sep=',')"
      ],
      "metadata": {
        "id": "0aCLdmgYD5z1",
        "colab": {
          "base_uri": "https://localhost:8080/"
        },
        "outputId": "db654dc0-002c-401f-c6db-9bbc85064ee3"
      },
      "execution_count": null,
      "outputs": [
        {
          "output_type": "stream",
          "name": "stderr",
          "text": [
            "<ipython-input-27-a717564e3a0a>:1: DtypeWarning: Columns (4,6,7,13,14,15) have mixed types. Specify dtype option on import or set low_memory=False.\n",
            "  df_caracteristiques =pd.read_csv('caracteristiques_2005_to_2023.csv', sep=',')\n"
          ]
        }
      ]
    },
    {
      "cell_type": "code",
      "source": [
        "df_caracteristiques_2005_to_2023.info()"
      ],
      "metadata": {
        "id": "t8iYpYLvESMU",
        "colab": {
          "base_uri": "https://localhost:8080/"
        },
        "outputId": "ceee7e83-772b-40c9-ea83-622630256fbe"
      },
      "execution_count": null,
      "outputs": [
        {
          "output_type": "stream",
          "name": "stdout",
          "text": [
            "<class 'pandas.core.frame.DataFrame'>\n",
            "RangeIndex: 1231695 entries, 0 to 1231694\n",
            "Data columns (total 16 columns):\n",
            " #   Column   Non-Null Count    Dtype  \n",
            "---  ------   --------------    -----  \n",
            " 0   Num_Acc  1231695 non-null  int64  \n",
            " 1   jour     1231695 non-null  int64  \n",
            " 2   mois     1231695 non-null  int64  \n",
            " 3   an       1231695 non-null  int64  \n",
            " 4   hrmn     1231695 non-null  object \n",
            " 5   lum      1231695 non-null  int64  \n",
            " 6   dep      1231695 non-null  object \n",
            " 7   com      1231693 non-null  object \n",
            " 8   agg      1231695 non-null  int64  \n",
            " 9   int      1231695 non-null  int64  \n",
            " 10  atm      1231622 non-null  float64\n",
            " 11  col      1231676 non-null  float64\n",
            " 12  adr      1085797 non-null  object \n",
            " 13  lat      744627 non-null   object \n",
            " 14  long     744623 non-null   object \n",
            " 15  gps      480052 non-null   object \n",
            "dtypes: float64(2), int64(7), object(7)\n",
            "memory usage: 150.4+ MB\n"
          ]
        }
      ]
    },
    {
      "cell_type": "code",
      "source": [
        "df_caracteristiques_2005_to_2023_76 = df_caracteristiques_2005_to_2023[(df_caracteristiques_2005_to_2023[\"dep\"]== '76')]"
      ],
      "metadata": {
        "id": "h1kCBisUEiAY"
      },
      "execution_count": null,
      "outputs": []
    },
    {
      "cell_type": "code",
      "source": [
        "df_caracteristiques_2005_to_2023_76.Num_Acc.value_counts()"
      ],
      "metadata": {
        "colab": {
          "base_uri": "https://localhost:8080/",
          "height": 489
        },
        "id": "RFGXClfgF7CA",
        "outputId": "fd6e6a76-369c-4f67-975d-69fdeb480368"
      },
      "execution_count": null,
      "outputs": [
        {
          "output_type": "execute_result",
          "data": {
            "text/plain": [
              "Num_Acc\n",
              "202300000110    1\n",
              "202000009094    1\n",
              "202000007685    1\n",
              "202000007719    1\n",
              "202000007758    1\n",
              "               ..\n",
              "202200029884    1\n",
              "202200029994    1\n",
              "202200029996    1\n",
              "202200029999    1\n",
              "201900058833    1\n",
              "Name: count, Length: 3565, dtype: int64"
            ],
            "text/html": [
              "<div>\n",
              "<style scoped>\n",
              "    .dataframe tbody tr th:only-of-type {\n",
              "        vertical-align: middle;\n",
              "    }\n",
              "\n",
              "    .dataframe tbody tr th {\n",
              "        vertical-align: top;\n",
              "    }\n",
              "\n",
              "    .dataframe thead th {\n",
              "        text-align: right;\n",
              "    }\n",
              "</style>\n",
              "<table border=\"1\" class=\"dataframe\">\n",
              "  <thead>\n",
              "    <tr style=\"text-align: right;\">\n",
              "      <th></th>\n",
              "      <th>count</th>\n",
              "    </tr>\n",
              "    <tr>\n",
              "      <th>Num_Acc</th>\n",
              "      <th></th>\n",
              "    </tr>\n",
              "  </thead>\n",
              "  <tbody>\n",
              "    <tr>\n",
              "      <th>202300000110</th>\n",
              "      <td>1</td>\n",
              "    </tr>\n",
              "    <tr>\n",
              "      <th>202000009094</th>\n",
              "      <td>1</td>\n",
              "    </tr>\n",
              "    <tr>\n",
              "      <th>202000007685</th>\n",
              "      <td>1</td>\n",
              "    </tr>\n",
              "    <tr>\n",
              "      <th>202000007719</th>\n",
              "      <td>1</td>\n",
              "    </tr>\n",
              "    <tr>\n",
              "      <th>202000007758</th>\n",
              "      <td>1</td>\n",
              "    </tr>\n",
              "    <tr>\n",
              "      <th>...</th>\n",
              "      <td>...</td>\n",
              "    </tr>\n",
              "    <tr>\n",
              "      <th>202200029884</th>\n",
              "      <td>1</td>\n",
              "    </tr>\n",
              "    <tr>\n",
              "      <th>202200029994</th>\n",
              "      <td>1</td>\n",
              "    </tr>\n",
              "    <tr>\n",
              "      <th>202200029996</th>\n",
              "      <td>1</td>\n",
              "    </tr>\n",
              "    <tr>\n",
              "      <th>202200029999</th>\n",
              "      <td>1</td>\n",
              "    </tr>\n",
              "    <tr>\n",
              "      <th>201900058833</th>\n",
              "      <td>1</td>\n",
              "    </tr>\n",
              "  </tbody>\n",
              "</table>\n",
              "<p>3565 rows × 1 columns</p>\n",
              "</div><br><label><b>dtype:</b> int64</label>"
            ]
          },
          "metadata": {},
          "execution_count": 44
        }
      ]
    },
    {
      "cell_type": "code",
      "source": [
        "df_caracteristiques_2005_to_2023.dep.unique()"
      ],
      "metadata": {
        "colab": {
          "base_uri": "https://localhost:8080/"
        },
        "id": "IHr1nxmVFsD0",
        "outputId": "ad782ffa-2a7a-412e-cf74-01edb8393e77"
      },
      "execution_count": null,
      "outputs": [
        {
          "output_type": "execute_result",
          "data": {
            "text/plain": [
              "array(['75', '94', '95', '93', '92', '01', '38', '91', '22', '972', '974',\n",
              "       '06', '67', '56', '2B', '82', '11', '63', '47', '39', '29', '26',\n",
              "       '60', '45', '64', '16', '07', '17', '23', '87', '30', '34', '62',\n",
              "       '987', '971', '66', '83', '69', '33', '80', '13', '973', '78',\n",
              "       '976', '2A', '76', '74', '71', '72', '61', '86', '70', '65', '44',\n",
              "       '54', '53', '59', '85', '57', '28', '37', '52', '51', '49', '88',\n",
              "       '10', '36', '35', '31', '27', '84', '21', '08', '02', '81', '77',\n",
              "       '14', '50', '42', '09', '15', '73', '32', '04', '58', '978', '68',\n",
              "       '988', '55', '41', '43', '25', '05', '12', '19', '79', '40', '18',\n",
              "       '03', '46', '90', '24', '89', '48', '986', '977', '975', '2', '9',\n",
              "       '7', '4', '3', '1', '6', '5', '8', 590, 620, 800, 20, 600, 570,\n",
              "       760, 270, 350, 220, 290, 560, 140, 500, 10, 610, 440, 490, 530,\n",
              "       720, 850, 330, 240, 400, 470, 640, 860, 160, 170, 790, 870, 190,\n",
              "       310, 90, 320, 460, 650, 810, 690, 210, 70, 260, 380, 420, 730, 740,\n",
              "       630, 30, 540, 550, 880, 670, 680, 510, 80, 100, 520, 580, 710, 890,\n",
              "       250, 40, 390, 700, 130, 50, 60, 830, 840, 340, 110, 300, 480, 660,\n",
              "       201, 202, 780, 910, 950, 770, 450, 180, 280, 370, 410, 360, 900,\n",
              "       820, 120, 230, 430, 150, 920, 930, 940, 750, 972, 971, 973, 974,\n",
              "       976], dtype=object)"
            ]
          },
          "metadata": {},
          "execution_count": 36
        }
      ]
    },
    {
      "cell_type": "code",
      "source": [],
      "metadata": {
        "id": "lqWCiuTMESQ6"
      },
      "execution_count": null,
      "outputs": []
    },
    {
      "cell_type": "code",
      "source": [],
      "metadata": {
        "id": "etejPlegESUK"
      },
      "execution_count": null,
      "outputs": []
    },
    {
      "cell_type": "code",
      "source": [],
      "metadata": {
        "id": "pHl7C2P9ESaD"
      },
      "execution_count": null,
      "outputs": []
    },
    {
      "cell_type": "code",
      "source": [],
      "metadata": {
        "id": "LzyOyNxiESc0"
      },
      "execution_count": null,
      "outputs": []
    },
    {
      "cell_type": "code",
      "source": [],
      "metadata": {
        "id": "pe7GFc0RD590"
      },
      "execution_count": null,
      "outputs": []
    },
    {
      "cell_type": "code",
      "source": [],
      "metadata": {
        "id": "VAy_gfuhD6A1"
      },
      "execution_count": null,
      "outputs": []
    },
    {
      "cell_type": "code",
      "source": [],
      "metadata": {
        "id": "yclY4ax7D6Dt"
      },
      "execution_count": null,
      "outputs": []
    },
    {
      "cell_type": "code",
      "source": [],
      "metadata": {
        "id": "w1_rtEx3D6Gt"
      },
      "execution_count": null,
      "outputs": []
    },
    {
      "cell_type": "code",
      "source": [],
      "metadata": {
        "id": "ZSIr-bCb3deF"
      },
      "execution_count": null,
      "outputs": []
    }
  ]
}