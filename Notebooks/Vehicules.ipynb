{
  "nbformat": 4,
  "nbformat_minor": 0,
  "metadata": {
    "colab": {
      "provenance": []
    },
    "kernelspec": {
      "name": "python3",
      "display_name": "Python 3"
    },
    "language_info": {
      "name": "python"
    }
  },
  "cells": [
    {
      "cell_type": "markdown",
      "source": [],
      "metadata": {
        "id": "hL7P-f4GaJ4J"
      }
    },
    {
      "cell_type": "markdown",
      "source": [
        "Chargement des datasets des Véhicules"
      ],
      "metadata": {
        "id": "9vDLTm2xJxmh"
      }
    },
    {
      "cell_type": "code",
      "source": [
        "from google.colab import drive\n",
        "drive.mount('/content/drive',force_remount=True)"
      ],
      "metadata": {
        "colab": {
          "base_uri": "https://localhost:8080/"
        },
        "id": "dOz0LiMNJ5Ci",
        "outputId": "ab6c2c3d-c337-46c8-f131-53477d28f309"
      },
      "execution_count": null,
      "outputs": [
        {
          "output_type": "stream",
          "name": "stdout",
          "text": [
            "Mounted at /content/drive\n"
          ]
        }
      ]
    },
    {
      "cell_type": "code",
      "source": [
        "# liste du répertoire\n",
        "!ls \"/content/drive/MyDrive/Accidents/datas\"\n",
        "\n",
        "drive = True\n",
        "path = \"/content/drive/MyDrive/Accidents/\"\n",
        "pathData = \"/content/drive/MyDrive/Accidents/datas/\"\n",
        "pathDataRegroupement = \"/content/drive/MyDrive/Accidents/datas/Regroupement/\""
      ],
      "metadata": {
        "colab": {
          "base_uri": "https://localhost:8080/"
        },
        "id": "G3szli3BJ_AT",
        "outputId": "0e47d80e-3cc9-4726-ab02-95e5ec941fe8"
      },
      "execution_count": null,
      "outputs": [
        {
          "output_type": "stream",
          "name": "stdout",
          "text": [
            "2009.csv\n",
            "2010.csv\n",
            "2011.csv\n",
            "2012.csv\n",
            "2013.csv\n",
            "2014.csv\n",
            "2015.csv\n",
            "2016.csv\n",
            "2017.csv\n",
            "2018.csv\n",
            "2019.csv\n",
            "2020.csv\n",
            "2021.csv\n",
            "caracteristiques_2005.csv\n",
            "caracteristiques_2006.csv\n",
            "caracteristiques_2007.csv\n",
            "caracteristiques_2008.csv\n",
            "caracteristiques_2009.csv\n",
            "caracteristiques_2010.csv\n",
            "caracteristiques_2011.csv\n",
            "caracteristiques_2012.csv\n",
            "caracteristiques_2013.csv\n",
            "caracteristiques_2014.csv\n",
            "caracteristiques_2015.csv\n",
            "caracteristiques_2016.csv\n",
            "caracteristiques_2017.csv\n",
            "caracteristiques_2018.csv\n",
            "caracteristiques_2019.csv\n",
            "caracteristiques_2020.csv\n",
            "caracteristiques_2021.csv\n",
            "caracteristiques_2022.csv\n",
            "caracteristiques_2023.csv\n",
            "description-de-la-liste-des-vehicules-immatricules-impliques-dans-les-accidents-corporels.pdf\n",
            "description-des-bases-de-donnees-onisr-annees-2005-a-2018.pdf\n",
            "description-des-bases-de-donnees-onisr-annees-2005-a-2020.pdf\n",
            "lieux_2005.csv\n",
            "lieux_2005_to_2023.csv\n",
            "lieux_2006.csv\n",
            "lieux_2007.csv\n",
            "lieux_2008.csv\n",
            "lieux_2009.csv\n",
            "lieux_2010.csv\n",
            "lieux_2011.csv\n",
            "lieux_2012.csv\n",
            "lieux_2013.csv\n",
            "lieux_2014.csv\n",
            "lieux_2015.csv\n",
            "lieux_2016.csv\n",
            "lieux_2017.csv\n",
            "lieux_2018.csv\n",
            "lieux_2019.csv\n",
            "lieux_2020.csv\n",
            "lieux_2021.csv\n",
            "lieux_2022.csv\n",
            "lieux_2023.csv\n",
            "Regroupement\n",
            "usagers_2005.csv\n",
            "usagers_2006.csv\n",
            "usagers_2007.csv\n",
            "usagers_2008.csv\n",
            "usagers_2009.csv\n",
            "usagers_2010.csv\n",
            "usagers_2011.csv\n",
            "usagers_2012.csv\n",
            "usagers_2013.csv\n",
            "usagers_2014.csv\n",
            "usagers_2015.csv\n",
            "usagers_2016.csv\n",
            "usagers_2017.csv\n",
            "usagers_2018.csv\n",
            "usagers_2019.csv\n",
            "usagers_2020.csv\n",
            "usagers_2021.csv\n",
            "usagers_2022.csv\n",
            "usagers_2023.csv\n",
            "vehicules_2005.csv\n",
            "vehicules_2006.csv\n",
            "vehicules_2007.csv\n",
            "vehicules_2008.csv\n",
            "vehicules_2009.csv\n",
            "vehicules_2010.csv\n",
            "vehicules_2011.csv\n",
            "vehicules_2012.csv\n",
            "vehicules_2013.csv\n",
            "vehicules_2014.csv\n",
            "vehicules_2015.csv\n",
            "vehicules_2016.csv\n",
            "vehicules_2017.csv\n",
            "vehicules_2018.csv\n",
            "vehicules_2019.csv\n",
            "vehicules_2020.csv\n",
            "vehicules_2021.csv\n",
            "vehicules_2022.csv\n",
            "vehicules_2023.csv\n"
          ]
        }
      ]
    },
    {
      "cell_type": "code",
      "source": [
        "import pandas as pd\n",
        "import numpy as np\n",
        "import os\n",
        "import matplotlib.pyplot as plt\n",
        "import seaborn as sns"
      ],
      "metadata": {
        "id": "K6fT3Xo2KFJN"
      },
      "execution_count": null,
      "outputs": []
    },
    {
      "cell_type": "code",
      "source": [
        "vehicules_2023 =pd.read_csv(pathData + 'vehicules_2023.csv', sep=';',low_memory=False)\n",
        "vehicules_2023 = vehicules_2023[['Num_Acc','senc','catv','occutc','obs','obsm','choc','manv','num_veh']]"
      ],
      "metadata": {
        "id": "ku388J0kKFR1"
      },
      "execution_count": null,
      "outputs": []
    },
    {
      "cell_type": "code",
      "source": [
        "vehicules_2023.head()"
      ],
      "metadata": {
        "colab": {
          "base_uri": "https://localhost:8080/",
          "height": 206
        },
        "id": "mU3WvNMJKFVk",
        "outputId": "fb0a8903-8f2b-418c-c10f-6f54e9966d60"
      },
      "execution_count": null,
      "outputs": [
        {
          "output_type": "execute_result",
          "data": {
            "text/plain": [
              "        Num_Acc  senc  catv  occutc  obs  obsm  choc  manv num_veh\n",
              "0  202300000001     1    30     NaN    0     0     5     1     A01\n",
              "1  202300000002     2     7     NaN    0     1     1     1     A01\n",
              "2  202300000003     1     2     NaN    0     2     1    16     B01\n",
              "3  202300000003     2     7     NaN    0     2     2    15     A01\n",
              "4  202300000004     1     7     NaN    0     2     9     2     B01"
            ],
            "text/html": [
              "\n",
              "  <div id=\"df-35bdd784-eea4-4412-a465-a869cd98a278\" class=\"colab-df-container\">\n",
              "    <div>\n",
              "<style scoped>\n",
              "    .dataframe tbody tr th:only-of-type {\n",
              "        vertical-align: middle;\n",
              "    }\n",
              "\n",
              "    .dataframe tbody tr th {\n",
              "        vertical-align: top;\n",
              "    }\n",
              "\n",
              "    .dataframe thead th {\n",
              "        text-align: right;\n",
              "    }\n",
              "</style>\n",
              "<table border=\"1\" class=\"dataframe\">\n",
              "  <thead>\n",
              "    <tr style=\"text-align: right;\">\n",
              "      <th></th>\n",
              "      <th>Num_Acc</th>\n",
              "      <th>senc</th>\n",
              "      <th>catv</th>\n",
              "      <th>occutc</th>\n",
              "      <th>obs</th>\n",
              "      <th>obsm</th>\n",
              "      <th>choc</th>\n",
              "      <th>manv</th>\n",
              "      <th>num_veh</th>\n",
              "    </tr>\n",
              "  </thead>\n",
              "  <tbody>\n",
              "    <tr>\n",
              "      <th>0</th>\n",
              "      <td>202300000001</td>\n",
              "      <td>1</td>\n",
              "      <td>30</td>\n",
              "      <td>NaN</td>\n",
              "      <td>0</td>\n",
              "      <td>0</td>\n",
              "      <td>5</td>\n",
              "      <td>1</td>\n",
              "      <td>A01</td>\n",
              "    </tr>\n",
              "    <tr>\n",
              "      <th>1</th>\n",
              "      <td>202300000002</td>\n",
              "      <td>2</td>\n",
              "      <td>7</td>\n",
              "      <td>NaN</td>\n",
              "      <td>0</td>\n",
              "      <td>1</td>\n",
              "      <td>1</td>\n",
              "      <td>1</td>\n",
              "      <td>A01</td>\n",
              "    </tr>\n",
              "    <tr>\n",
              "      <th>2</th>\n",
              "      <td>202300000003</td>\n",
              "      <td>1</td>\n",
              "      <td>2</td>\n",
              "      <td>NaN</td>\n",
              "      <td>0</td>\n",
              "      <td>2</td>\n",
              "      <td>1</td>\n",
              "      <td>16</td>\n",
              "      <td>B01</td>\n",
              "    </tr>\n",
              "    <tr>\n",
              "      <th>3</th>\n",
              "      <td>202300000003</td>\n",
              "      <td>2</td>\n",
              "      <td>7</td>\n",
              "      <td>NaN</td>\n",
              "      <td>0</td>\n",
              "      <td>2</td>\n",
              "      <td>2</td>\n",
              "      <td>15</td>\n",
              "      <td>A01</td>\n",
              "    </tr>\n",
              "    <tr>\n",
              "      <th>4</th>\n",
              "      <td>202300000004</td>\n",
              "      <td>1</td>\n",
              "      <td>7</td>\n",
              "      <td>NaN</td>\n",
              "      <td>0</td>\n",
              "      <td>2</td>\n",
              "      <td>9</td>\n",
              "      <td>2</td>\n",
              "      <td>B01</td>\n",
              "    </tr>\n",
              "  </tbody>\n",
              "</table>\n",
              "</div>\n",
              "    <div class=\"colab-df-buttons\">\n",
              "\n",
              "  <div class=\"colab-df-container\">\n",
              "    <button class=\"colab-df-convert\" onclick=\"convertToInteractive('df-35bdd784-eea4-4412-a465-a869cd98a278')\"\n",
              "            title=\"Convert this dataframe to an interactive table.\"\n",
              "            style=\"display:none;\">\n",
              "\n",
              "  <svg xmlns=\"http://www.w3.org/2000/svg\" height=\"24px\" viewBox=\"0 -960 960 960\">\n",
              "    <path d=\"M120-120v-720h720v720H120Zm60-500h600v-160H180v160Zm220 220h160v-160H400v160Zm0 220h160v-160H400v160ZM180-400h160v-160H180v160Zm440 0h160v-160H620v160ZM180-180h160v-160H180v160Zm440 0h160v-160H620v160Z\"/>\n",
              "  </svg>\n",
              "    </button>\n",
              "\n",
              "  <style>\n",
              "    .colab-df-container {\n",
              "      display:flex;\n",
              "      gap: 12px;\n",
              "    }\n",
              "\n",
              "    .colab-df-convert {\n",
              "      background-color: #E8F0FE;\n",
              "      border: none;\n",
              "      border-radius: 50%;\n",
              "      cursor: pointer;\n",
              "      display: none;\n",
              "      fill: #1967D2;\n",
              "      height: 32px;\n",
              "      padding: 0 0 0 0;\n",
              "      width: 32px;\n",
              "    }\n",
              "\n",
              "    .colab-df-convert:hover {\n",
              "      background-color: #E2EBFA;\n",
              "      box-shadow: 0px 1px 2px rgba(60, 64, 67, 0.3), 0px 1px 3px 1px rgba(60, 64, 67, 0.15);\n",
              "      fill: #174EA6;\n",
              "    }\n",
              "\n",
              "    .colab-df-buttons div {\n",
              "      margin-bottom: 4px;\n",
              "    }\n",
              "\n",
              "    [theme=dark] .colab-df-convert {\n",
              "      background-color: #3B4455;\n",
              "      fill: #D2E3FC;\n",
              "    }\n",
              "\n",
              "    [theme=dark] .colab-df-convert:hover {\n",
              "      background-color: #434B5C;\n",
              "      box-shadow: 0px 1px 3px 1px rgba(0, 0, 0, 0.15);\n",
              "      filter: drop-shadow(0px 1px 2px rgba(0, 0, 0, 0.3));\n",
              "      fill: #FFFFFF;\n",
              "    }\n",
              "  </style>\n",
              "\n",
              "    <script>\n",
              "      const buttonEl =\n",
              "        document.querySelector('#df-35bdd784-eea4-4412-a465-a869cd98a278 button.colab-df-convert');\n",
              "      buttonEl.style.display =\n",
              "        google.colab.kernel.accessAllowed ? 'block' : 'none';\n",
              "\n",
              "      async function convertToInteractive(key) {\n",
              "        const element = document.querySelector('#df-35bdd784-eea4-4412-a465-a869cd98a278');\n",
              "        const dataTable =\n",
              "          await google.colab.kernel.invokeFunction('convertToInteractive',\n",
              "                                                    [key], {});\n",
              "        if (!dataTable) return;\n",
              "\n",
              "        const docLinkHtml = 'Like what you see? Visit the ' +\n",
              "          '<a target=\"_blank\" href=https://colab.research.google.com/notebooks/data_table.ipynb>data table notebook</a>'\n",
              "          + ' to learn more about interactive tables.';\n",
              "        element.innerHTML = '';\n",
              "        dataTable['output_type'] = 'display_data';\n",
              "        await google.colab.output.renderOutput(dataTable, element);\n",
              "        const docLink = document.createElement('div');\n",
              "        docLink.innerHTML = docLinkHtml;\n",
              "        element.appendChild(docLink);\n",
              "      }\n",
              "    </script>\n",
              "  </div>\n",
              "\n",
              "\n",
              "<div id=\"df-a04473e7-2aed-47af-a747-bd710efe2959\">\n",
              "  <button class=\"colab-df-quickchart\" onclick=\"quickchart('df-a04473e7-2aed-47af-a747-bd710efe2959')\"\n",
              "            title=\"Suggest charts\"\n",
              "            style=\"display:none;\">\n",
              "\n",
              "<svg xmlns=\"http://www.w3.org/2000/svg\" height=\"24px\"viewBox=\"0 0 24 24\"\n",
              "     width=\"24px\">\n",
              "    <g>\n",
              "        <path d=\"M19 3H5c-1.1 0-2 .9-2 2v14c0 1.1.9 2 2 2h14c1.1 0 2-.9 2-2V5c0-1.1-.9-2-2-2zM9 17H7v-7h2v7zm4 0h-2V7h2v10zm4 0h-2v-4h2v4z\"/>\n",
              "    </g>\n",
              "</svg>\n",
              "  </button>\n",
              "\n",
              "<style>\n",
              "  .colab-df-quickchart {\n",
              "      --bg-color: #E8F0FE;\n",
              "      --fill-color: #1967D2;\n",
              "      --hover-bg-color: #E2EBFA;\n",
              "      --hover-fill-color: #174EA6;\n",
              "      --disabled-fill-color: #AAA;\n",
              "      --disabled-bg-color: #DDD;\n",
              "  }\n",
              "\n",
              "  [theme=dark] .colab-df-quickchart {\n",
              "      --bg-color: #3B4455;\n",
              "      --fill-color: #D2E3FC;\n",
              "      --hover-bg-color: #434B5C;\n",
              "      --hover-fill-color: #FFFFFF;\n",
              "      --disabled-bg-color: #3B4455;\n",
              "      --disabled-fill-color: #666;\n",
              "  }\n",
              "\n",
              "  .colab-df-quickchart {\n",
              "    background-color: var(--bg-color);\n",
              "    border: none;\n",
              "    border-radius: 50%;\n",
              "    cursor: pointer;\n",
              "    display: none;\n",
              "    fill: var(--fill-color);\n",
              "    height: 32px;\n",
              "    padding: 0;\n",
              "    width: 32px;\n",
              "  }\n",
              "\n",
              "  .colab-df-quickchart:hover {\n",
              "    background-color: var(--hover-bg-color);\n",
              "    box-shadow: 0 1px 2px rgba(60, 64, 67, 0.3), 0 1px 3px 1px rgba(60, 64, 67, 0.15);\n",
              "    fill: var(--button-hover-fill-color);\n",
              "  }\n",
              "\n",
              "  .colab-df-quickchart-complete:disabled,\n",
              "  .colab-df-quickchart-complete:disabled:hover {\n",
              "    background-color: var(--disabled-bg-color);\n",
              "    fill: var(--disabled-fill-color);\n",
              "    box-shadow: none;\n",
              "  }\n",
              "\n",
              "  .colab-df-spinner {\n",
              "    border: 2px solid var(--fill-color);\n",
              "    border-color: transparent;\n",
              "    border-bottom-color: var(--fill-color);\n",
              "    animation:\n",
              "      spin 1s steps(1) infinite;\n",
              "  }\n",
              "\n",
              "  @keyframes spin {\n",
              "    0% {\n",
              "      border-color: transparent;\n",
              "      border-bottom-color: var(--fill-color);\n",
              "      border-left-color: var(--fill-color);\n",
              "    }\n",
              "    20% {\n",
              "      border-color: transparent;\n",
              "      border-left-color: var(--fill-color);\n",
              "      border-top-color: var(--fill-color);\n",
              "    }\n",
              "    30% {\n",
              "      border-color: transparent;\n",
              "      border-left-color: var(--fill-color);\n",
              "      border-top-color: var(--fill-color);\n",
              "      border-right-color: var(--fill-color);\n",
              "    }\n",
              "    40% {\n",
              "      border-color: transparent;\n",
              "      border-right-color: var(--fill-color);\n",
              "      border-top-color: var(--fill-color);\n",
              "    }\n",
              "    60% {\n",
              "      border-color: transparent;\n",
              "      border-right-color: var(--fill-color);\n",
              "    }\n",
              "    80% {\n",
              "      border-color: transparent;\n",
              "      border-right-color: var(--fill-color);\n",
              "      border-bottom-color: var(--fill-color);\n",
              "    }\n",
              "    90% {\n",
              "      border-color: transparent;\n",
              "      border-bottom-color: var(--fill-color);\n",
              "    }\n",
              "  }\n",
              "</style>\n",
              "\n",
              "  <script>\n",
              "    async function quickchart(key) {\n",
              "      const quickchartButtonEl =\n",
              "        document.querySelector('#' + key + ' button');\n",
              "      quickchartButtonEl.disabled = true;  // To prevent multiple clicks.\n",
              "      quickchartButtonEl.classList.add('colab-df-spinner');\n",
              "      try {\n",
              "        const charts = await google.colab.kernel.invokeFunction(\n",
              "            'suggestCharts', [key], {});\n",
              "      } catch (error) {\n",
              "        console.error('Error during call to suggestCharts:', error);\n",
              "      }\n",
              "      quickchartButtonEl.classList.remove('colab-df-spinner');\n",
              "      quickchartButtonEl.classList.add('colab-df-quickchart-complete');\n",
              "    }\n",
              "    (() => {\n",
              "      let quickchartButtonEl =\n",
              "        document.querySelector('#df-a04473e7-2aed-47af-a747-bd710efe2959 button');\n",
              "      quickchartButtonEl.style.display =\n",
              "        google.colab.kernel.accessAllowed ? 'block' : 'none';\n",
              "    })();\n",
              "  </script>\n",
              "</div>\n",
              "\n",
              "    </div>\n",
              "  </div>\n"
            ],
            "application/vnd.google.colaboratory.intrinsic+json": {
              "type": "dataframe",
              "variable_name": "vehicules_2023",
              "summary": "{\n  \"name\": \"vehicules_2023\",\n  \"rows\": 93585,\n  \"fields\": [\n    {\n      \"column\": \"Num_Acc\",\n      \"properties\": {\n        \"dtype\": \"number\",\n        \"std\": 15816,\n        \"min\": 202300000001,\n        \"max\": 202300054822,\n        \"num_unique_values\": 54822,\n        \"samples\": [\n          202300038316,\n          202300036043,\n          202300013652\n        ],\n        \"semantic_type\": \"\",\n        \"description\": \"\"\n      }\n    },\n    {\n      \"column\": \"senc\",\n      \"properties\": {\n        \"dtype\": \"number\",\n        \"std\": 0,\n        \"min\": -1,\n        \"max\": 3,\n        \"num_unique_values\": 5,\n        \"samples\": [\n          2,\n          -1,\n          3\n        ],\n        \"semantic_type\": \"\",\n        \"description\": \"\"\n      }\n    },\n    {\n      \"column\": \"catv\",\n      \"properties\": {\n        \"dtype\": \"number\",\n        \"std\": 14,\n        \"min\": -1,\n        \"max\": 99,\n        \"num_unique_values\": 32,\n        \"samples\": [\n          41,\n          34,\n          39\n        ],\n        \"semantic_type\": \"\",\n        \"description\": \"\"\n      }\n    },\n    {\n      \"column\": \"occutc\",\n      \"properties\": {\n        \"dtype\": \"number\",\n        \"std\": 4.3729875426649345,\n        \"min\": 0.0,\n        \"max\": 65.0,\n        \"num_unique_values\": 27,\n        \"samples\": [\n          21.0,\n          27.0,\n          52.0\n        ],\n        \"semantic_type\": \"\",\n        \"description\": \"\"\n      }\n    },\n    {\n      \"column\": \"obs\",\n      \"properties\": {\n        \"dtype\": \"number\",\n        \"std\": 3,\n        \"min\": -1,\n        \"max\": 17,\n        \"num_unique_values\": 19,\n        \"samples\": [\n          0,\n          5,\n          8\n        ],\n        \"semantic_type\": \"\",\n        \"description\": \"\"\n      }\n    },\n    {\n      \"column\": \"obsm\",\n      \"properties\": {\n        \"dtype\": \"number\",\n        \"std\": 1,\n        \"min\": -1,\n        \"max\": 9,\n        \"num_unique_values\": 8,\n        \"samples\": [\n          1,\n          5,\n          0\n        ],\n        \"semantic_type\": \"\",\n        \"description\": \"\"\n      }\n    },\n    {\n      \"column\": \"choc\",\n      \"properties\": {\n        \"dtype\": \"number\",\n        \"std\": 2,\n        \"min\": -1,\n        \"max\": 9,\n        \"num_unique_values\": 11,\n        \"samples\": [\n          3,\n          5,\n          6\n        ],\n        \"semantic_type\": \"\",\n        \"description\": \"\"\n      }\n    },\n    {\n      \"column\": \"manv\",\n      \"properties\": {\n        \"dtype\": \"number\",\n        \"std\": 7,\n        \"min\": -1,\n        \"max\": 26,\n        \"num_unique_values\": 28,\n        \"samples\": [\n          13,\n          24,\n          11\n        ],\n        \"semantic_type\": \"\",\n        \"description\": \"\"\n      }\n    },\n    {\n      \"column\": \"num_veh\",\n      \"properties\": {\n        \"dtype\": \"category\",\n        \"num_unique_values\": 46,\n        \"samples\": [\n          \"I01\",\n          \"H01\",\n          \"TB01\"\n        ],\n        \"semantic_type\": \"\",\n        \"description\": \"\"\n      }\n    }\n  ]\n}"
            }
          },
          "metadata": {},
          "execution_count": 16
        }
      ]
    },
    {
      "cell_type": "code",
      "source": [
        "vehicules_2023.info()"
      ],
      "metadata": {
        "colab": {
          "base_uri": "https://localhost:8080/"
        },
        "id": "TMnTCaYrKFZF",
        "outputId": "13b098a3-57b5-4c4e-c9f9-e42de222adfa"
      },
      "execution_count": null,
      "outputs": [
        {
          "output_type": "stream",
          "name": "stdout",
          "text": [
            "<class 'pandas.core.frame.DataFrame'>\n",
            "RangeIndex: 93585 entries, 0 to 93584\n",
            "Data columns (total 9 columns):\n",
            " #   Column   Non-Null Count  Dtype  \n",
            "---  ------   --------------  -----  \n",
            " 0   Num_Acc  93585 non-null  int64  \n",
            " 1   senc     93585 non-null  int64  \n",
            " 2   catv     93585 non-null  int64  \n",
            " 3   occutc   838 non-null    float64\n",
            " 4   obs      93585 non-null  int64  \n",
            " 5   obsm     93585 non-null  int64  \n",
            " 6   choc     93585 non-null  int64  \n",
            " 7   manv     93585 non-null  int64  \n",
            " 8   num_veh  93585 non-null  object \n",
            "dtypes: float64(1), int64(7), object(1)\n",
            "memory usage: 6.4+ MB\n"
          ]
        }
      ]
    },
    {
      "cell_type": "code",
      "source": [
        "vehicules_2022 = pd.read_csv(pathData + 'vehicules_2022.csv', sep=';',low_memory=False)\n",
        "vehicules_2022 = vehicules_2022[['Num_Acc','senc','catv','occutc','obs','obsm','choc','manv','num_veh']]\n",
        "vehicules_2021 = pd.read_csv(pathData + 'vehicules_2021.csv', sep=';',low_memory=False)\n",
        "vehicules_2021 = vehicules_2021[['Num_Acc','senc','catv','occutc','obs','obsm','choc','manv','num_veh']]\n",
        "vehicules_2020 = pd.read_csv(pathData + 'vehicules_2020.csv', sep=';',low_memory=False)\n",
        "vehicules_2020 = vehicules_2020[['Num_Acc','senc','catv','occutc','obs','obsm','choc','manv','num_veh']]\n",
        "vehicules_2019 = pd.read_csv(pathData + 'vehicules_2019.csv', sep=';',low_memory=False)\n",
        "vehicules_2019 = vehicules_2019[['Num_Acc','senc','catv','occutc','obs','obsm','choc','manv','num_veh']]\n"
      ],
      "metadata": {
        "id": "yY1KJ8yTKFcN"
      },
      "execution_count": null,
      "outputs": []
    },
    {
      "cell_type": "code",
      "source": [
        "vehicules_2023 = pd.concat([vehicules_2023,vehicules_2022], axis=0, ignore_index=True)\n",
        "vehicules_2023 = pd.concat([vehicules_2023,vehicules_2021], axis=0, ignore_index=True)\n",
        "vehicules_2023 = pd.concat([vehicules_2023,vehicules_2020], axis=0, ignore_index=True)\n",
        "vehicules_2023 = pd.concat([vehicules_2023,vehicules_2019], axis=0, ignore_index=True)\n"
      ],
      "metadata": {
        "id": "-JuLH6W7MF6X"
      },
      "execution_count": null,
      "outputs": []
    },
    {
      "cell_type": "code",
      "source": [
        "vehicules_2023.info()"
      ],
      "metadata": {
        "colab": {
          "base_uri": "https://localhost:8080/"
        },
        "id": "poRncKeJMgZk",
        "outputId": "46b7674e-6252-44c7-a967-829249531d48"
      },
      "execution_count": null,
      "outputs": [
        {
          "output_type": "stream",
          "name": "stdout",
          "text": [
            "<class 'pandas.core.frame.DataFrame'>\n",
            "RangeIndex: 467169 entries, 0 to 467168\n",
            "Data columns (total 9 columns):\n",
            " #   Column   Non-Null Count   Dtype  \n",
            "---  ------   --------------   -----  \n",
            " 0   Num_Acc  467169 non-null  int64  \n",
            " 1   senc     467169 non-null  int64  \n",
            " 2   catv     467169 non-null  int64  \n",
            " 3   occutc   3912 non-null    float64\n",
            " 4   obs      467169 non-null  int64  \n",
            " 5   obsm     467169 non-null  int64  \n",
            " 6   choc     467169 non-null  int64  \n",
            " 7   manv     467169 non-null  int64  \n",
            " 8   num_veh  467169 non-null  object \n",
            "dtypes: float64(1), int64(7), object(1)\n",
            "memory usage: 32.1+ MB\n"
          ]
        }
      ]
    },
    {
      "cell_type": "code",
      "source": [
        "vehicules_2018 =pd.read_csv(pathData + 'vehicules_2018.csv', encoding = \"ISO-8859-1\", quotechar='\"',low_memory=False)\n",
        "vehicules_2018 = vehicules_2018[['Num_Acc','senc','catv','occutc','obs','obsm','choc','manv','num_veh']]\n",
        "vehicules_2017 =pd.read_csv(pathData + 'vehicules_2017.csv', encoding = \"ISO-8859-1\", quotechar='\"',low_memory=False)\n",
        "vehicules_2017 = vehicules_2017[['Num_Acc','senc','catv','occutc','obs','obsm','choc','manv','num_veh']]\n",
        "vehicules_2016 =pd.read_csv(pathData + 'vehicules_2016.csv', encoding = \"ISO-8859-1\", quotechar='\"',low_memory=False)\n",
        "vehicules_2016 = vehicules_2016[['Num_Acc','senc','catv','occutc','obs','obsm','choc','manv','num_veh']]\n",
        "vehicules_2015 =pd.read_csv(pathData + 'vehicules_2015.csv', encoding = \"ISO-8859-1\", quotechar='\"',low_memory=False)\n",
        "vehicules_2015 = vehicules_2015[['Num_Acc','senc','catv','occutc','obs','obsm','choc','manv','num_veh']]\n",
        "vehicules_2014 =pd.read_csv(pathData + 'vehicules_2014.csv', encoding = \"ISO-8859-1\", quotechar='\"',low_memory=False)\n",
        "vehicules_2014 = vehicules_2014[['Num_Acc','senc','catv','occutc','obs','obsm','choc','manv','num_veh']]\n",
        "vehicules_2013 =pd.read_csv(pathData + 'vehicules_2013.csv', encoding = \"ISO-8859-1\", quotechar='\"',low_memory=False)\n",
        "vehicules_2013 = vehicules_2013[['Num_Acc','senc','catv','occutc','obs','obsm','choc','manv','num_veh']]\n",
        "vehicules_2012 =pd.read_csv(pathData + 'vehicules_2012.csv', encoding = \"ISO-8859-1\", quotechar='\"',low_memory=False)\n",
        "vehicules_2012 = vehicules_2012[['Num_Acc','senc','catv','occutc','obs','obsm','choc','manv','num_veh']]\n",
        "vehicules_2011 =pd.read_csv(pathData + 'vehicules_2011.csv', encoding = \"ISO-8859-1\", quotechar='\"',low_memory=False)\n",
        "vehicules_2011 = vehicules_2011[['Num_Acc','senc','catv','occutc','obs','obsm','choc','manv','num_veh']]\n",
        "vehicules_2010 =pd.read_csv(pathData + 'vehicules_2010.csv', encoding = \"ISO-8859-1\", quotechar='\"',low_memory=False)\n",
        "vehicules_2010 = vehicules_2010[['Num_Acc','senc','catv','occutc','obs','obsm','choc','manv','num_veh']]\n",
        "vehicules_2009 =pd.read_csv(pathData + 'vehicules_2009.csv', encoding = \"ISO-8859-1\", quotechar='\"',low_memory=False)\n",
        "vehicules_2009 = vehicules_2009[['Num_Acc','senc','catv','occutc','obs','obsm','choc','manv','num_veh']]\n",
        "vehicules_2008 =pd.read_csv(pathData + 'vehicules_2008.csv', encoding = \"ISO-8859-1\", quotechar='\"',low_memory=False)\n",
        "vehicules_2008 = vehicules_2008[['Num_Acc','senc','catv','occutc','obs','obsm','choc','manv','num_veh']]\n",
        "vehicules_2007 =pd.read_csv(pathData + 'vehicules_2007.csv', encoding = \"ISO-8859-1\", quotechar='\"',low_memory=False)\n",
        "vehicules_2007 = vehicules_2007[['Num_Acc','senc','catv','occutc','obs','obsm','choc','manv','num_veh']]\n",
        "vehicules_2006 =pd.read_csv(pathData + 'vehicules_2006.csv', encoding = \"ISO-8859-1\", quotechar='\"',low_memory=False)\n",
        "vehicules_2006 = vehicules_2006[['Num_Acc','senc','catv','occutc','obs','obsm','choc','manv','num_veh']]\n",
        "vehicules_2005 =pd.read_csv(pathData + 'vehicules_2005.csv', encoding = \"ISO-8859-1\", quotechar='\"',low_memory=False)\n",
        "vehicules_2005 = vehicules_2005[['Num_Acc','senc','catv','occutc','obs','obsm','choc','manv','num_veh']]"
      ],
      "metadata": {
        "id": "6BbrBkjzMplg"
      },
      "execution_count": null,
      "outputs": []
    },
    {
      "cell_type": "code",
      "source": [
        "vehicules_2023 = pd.concat([vehicules_2023,vehicules_2018], axis=0, ignore_index=True)\n"
      ],
      "metadata": {
        "id": "Igkq4YZTORda"
      },
      "execution_count": null,
      "outputs": []
    },
    {
      "cell_type": "code",
      "source": [
        "vehicules_2023 = pd.concat([vehicules_2023,vehicules_2017], axis=0, ignore_index=True)\n",
        "vehicules_2023 = pd.concat([vehicules_2023,vehicules_2016], axis=0, ignore_index=True)\n",
        "vehicules_2023 = pd.concat([vehicules_2023,vehicules_2015], axis=0, ignore_index=True)\n",
        "vehicules_2023 = pd.concat([vehicules_2023,vehicules_2014], axis=0, ignore_index=True)\n",
        "vehicules_2023 = pd.concat([vehicules_2023,vehicules_2013], axis=0, ignore_index=True)\n",
        "vehicules_2023 = pd.concat([vehicules_2023,vehicules_2012], axis=0, ignore_index=True)\n",
        "vehicules_2023 = pd.concat([vehicules_2023,vehicules_2011], axis=0, ignore_index=True)\n",
        "vehicules_2023 = pd.concat([vehicules_2023,vehicules_2010], axis=0, ignore_index=True)\n",
        "vehicules_2023 = pd.concat([vehicules_2023,vehicules_2009], axis=0, ignore_index=True)\n",
        "vehicules_2023 = pd.concat([vehicules_2023,vehicules_2008], axis=0, ignore_index=True)\n",
        "vehicules_2023 = pd.concat([vehicules_2023,vehicules_2007], axis=0, ignore_index=True)\n",
        "vehicules_2023 = pd.concat([vehicules_2023,vehicules_2006], axis=0, ignore_index=True)\n",
        "vehicules_2023 = pd.concat([vehicules_2023,vehicules_2005], axis=0, ignore_index=True)\n",
        "\n"
      ],
      "metadata": {
        "id": "dGdk0X0pOjnG"
      },
      "execution_count": null,
      "outputs": []
    },
    {
      "cell_type": "code",
      "source": [
        "vehicules_2023.info()"
      ],
      "metadata": {
        "colab": {
          "base_uri": "https://localhost:8080/"
        },
        "id": "MDBMkimQOb38",
        "outputId": "bc483cfa-2603-443f-f537-6391ff1a4c22"
      },
      "execution_count": null,
      "outputs": [
        {
          "output_type": "stream",
          "name": "stdout",
          "text": [
            "<class 'pandas.core.frame.DataFrame'>\n",
            "RangeIndex: 2102980 entries, 0 to 2102979\n",
            "Data columns (total 9 columns):\n",
            " #   Column   Dtype  \n",
            "---  ------   -----  \n",
            " 0   Num_Acc  int64  \n",
            " 1   senc     float64\n",
            " 2   catv     int64  \n",
            " 3   occutc   float64\n",
            " 4   obs      float64\n",
            " 5   obsm     float64\n",
            " 6   choc     float64\n",
            " 7   manv     float64\n",
            " 8   num_veh  object \n",
            "dtypes: float64(6), int64(2), object(1)\n",
            "memory usage: 144.4+ MB\n"
          ]
        }
      ]
    },
    {
      "cell_type": "code",
      "source": [
        "vehicules_2023.shape"
      ],
      "metadata": {
        "colab": {
          "base_uri": "https://localhost:8080/"
        },
        "id": "_5WdhFATPBTQ",
        "outputId": "46cdd8f7-65b0-4c38-904b-2228d1e16063"
      },
      "execution_count": null,
      "outputs": [
        {
          "output_type": "execute_result",
          "data": {
            "text/plain": [
              "(2102980, 9)"
            ]
          },
          "metadata": {},
          "execution_count": 27
        }
      ]
    },
    {
      "cell_type": "code",
      "source": [
        "vehicules_2005_to_2023 = vehicules_2023"
      ],
      "metadata": {
        "id": "CxB8TWQXPGf4"
      },
      "execution_count": null,
      "outputs": []
    },
    {
      "cell_type": "code",
      "source": [
        "vehicules_2005_to_2023.to_csv(pathDataRegroupement +  'vehicules_2005_to_2023.csv', index=False)"
      ],
      "metadata": {
        "id": "a-6X6RJFPNco"
      },
      "execution_count": null,
      "outputs": []
    },
    {
      "cell_type": "code",
      "source": [
        "# Chargement dataset Global\n",
        "df_caracteristiques_lieux_usagers =pd.read_csv(pathDataRegroupement + 'Caracteristiques_lieux_Usagers_2005_to_2023.csv', sep=',',low_memory=False)"
      ],
      "metadata": {
        "id": "iIjMq2ZgPWK_"
      },
      "execution_count": null,
      "outputs": []
    },
    {
      "cell_type": "markdown",
      "source": [],
      "metadata": {
        "id": "xsa486qMNyMZ"
      }
    },
    {
      "cell_type": "code",
      "source": [
        "# fusion\n",
        "fusion = df_caracteristiques_lieux_usagers.merge(vehicules_2005_to_2023, on='Num_Acc', how='inner')\n",
        "caracteristiques = fusion.copy()"
      ],
      "metadata": {
        "id": "q3OJGirGPmoX"
      },
      "execution_count": null,
      "outputs": []
    },
    {
      "cell_type": "code",
      "source": [
        "fusion.to_csv(pathDataRegroupement +  'Accidents_2005_to_2023.csv', index=False)"
      ],
      "metadata": {
        "id": "qETnQzSqP0Qj"
      },
      "execution_count": null,
      "outputs": []
    },
    {
      "cell_type": "code",
      "source": [
        "fusion.shape"
      ],
      "metadata": {
        "colab": {
          "base_uri": "https://localhost:8080/"
        },
        "id": "8UTRUBaMPmxI",
        "outputId": "cb3e8164-0d36-4dee-f1cc-0b3c376fe4a9"
      },
      "execution_count": null,
      "outputs": [
        {
          "output_type": "execute_result",
          "data": {
            "text/plain": [
              "(5481820, 61)"
            ]
          },
          "metadata": {},
          "execution_count": 33
        }
      ]
    },
    {
      "cell_type": "markdown",
      "source": [],
      "metadata": {
        "id": "7Q9G0zIIM_8N"
      }
    }
  ]
}